{
 "cells": [
  {
   "cell_type": "markdown",
   "metadata": {},
   "source": [
    "\n",
    "# Arguments"
   ]
  },
  {
   "cell_type": "code",
   "execution_count": 1,
   "metadata": {},
   "outputs": [],
   "source": [
    "#load from last improved and do 1 epoch only\n",
    "\n",
    "\n",
    "batch_size = 32\n",
    "dataset_path_plantvillage = '../datasets/plantvillage'\n",
    "dataset_path_self = '../datasets/self'\n",
    "dataset_path_validation = '../datasets/validation'\n",
    "\n",
    "dataset_paths = [dataset_path_plantvillage, dataset_path_self, dataset_path_validation]\n",
    "\n",
    "model_save_path = 'model-warmup.h5'\n",
    "\n",
    "checkpoint_path = 'checkpoints-warmup.hdf5'\n",
    "\n",
    "input_width = 224\n",
    "input_height = 224\n",
    "input_depth = 3\n",
    "\n",
    "# --------------------------------------------------\n",
    "num_of_epochs = 30 - 10\n",
    "start_epoch = 0\n",
    "# --------------------------------------------------"
   ]
  },
  {
   "cell_type": "markdown",
   "metadata": {},
   "source": [
    "# Print class names"
   ]
  },
  {
   "cell_type": "code",
   "execution_count": 2,
   "metadata": {},
   "outputs": [
    {
     "name": "stdout",
     "output_type": "stream",
     "text": [
      "['___Yellow_Leaf_Curl_Virus', '___Late_blight', '___Early_blight', '___Two-spotted_spider_mite', '___Septoria_leaf_spot', '___Bacterial_spot', '___healthy', '___Target_Spot', '___Mosaic_Virus', '___Leaf_Mold', '___Leaf_miner', '___Curly_top_virus', '___Appids']\n",
      "\n",
      "PlantVillage\n",
      "['../datasets/plantvillage/___Yellow_Leaf_Curl_Virus', '../datasets/plantvillage/___Late_blight', '../datasets/plantvillage/___Early_blight', '../datasets/plantvillage/___Two-spotted_spider_mite', '../datasets/plantvillage/___Septoria_leaf_spot', '../datasets/plantvillage/___Bacterial_spot', '../datasets/plantvillage/___healthy', '../datasets/plantvillage/___Target_Spot', '../datasets/plantvillage/___Mosaic_Virus', '../datasets/plantvillage/___Leaf_Mold']\n",
      "10\n",
      "\n",
      "Self\n",
      "['../datasets/self/___Leaf_miner', '../datasets/self/___Early_blight', '../datasets/self/___Curly_top_virus', '../datasets/self/___Appids']\n",
      "4\n",
      "\n",
      "Validation\n",
      "['../datasets/validation/___Leaf_miner', '../datasets/validation/___Yellow_Leaf_Curl_Virus', '../datasets/validation/___Late_blight', '../datasets/validation/___Early_blight', '../datasets/validation/___Two-spotted_spider_mite', '../datasets/validation/___Septoria_leaf_spot', '../datasets/validation/___Curly_top_virus', '../datasets/validation/___Bacterial_spot', '../datasets/validation/___healthy', '../datasets/validation/___Appids', '../datasets/validation/___Target_Spot', '../datasets/validation/___Mosaic_Virus', '../datasets/validation/___Leaf_Mold']\n",
      "13\n"
     ]
    }
   ],
   "source": [
    "# Get classes\n",
    "import os\n",
    "import re\n",
    "\n",
    "class_names = []\n",
    "class_paths_plant_village = []\n",
    "class_paths_plant_self = []\n",
    "class_paths_plant_validation = []\n",
    "\n",
    "for path in dataset_paths:\n",
    "    classes = os.listdir(path)\n",
    "    for i in classes:\n",
    "        if(re.search('___', i)):\n",
    "            if(i not in class_names):\n",
    "                class_names.append(i)\n",
    "            if(re.search('plantvillage', path)):\n",
    "                class_paths_plant_village.append(path + '/' + i)\n",
    "            elif(re.search('self', path)):\n",
    "                class_paths_plant_self.append(path + '/' + i)\n",
    "            else:\n",
    "                class_paths_plant_validation.append(path + '/' + i)\n",
    "\n",
    "print(class_names)   \n",
    "print()\n",
    "print('PlantVillage')\n",
    "print(class_paths_plant_village) \n",
    "print(len(class_paths_plant_village))\n",
    "print()\n",
    "print('Self')\n",
    "print(class_paths_plant_self) \n",
    "print(len(class_paths_plant_self))\n",
    "print()\n",
    "print('Validation')\n",
    "print(class_paths_plant_validation) \n",
    "print(len(class_paths_plant_validation))"
   ]
  },
  {
   "cell_type": "markdown",
   "metadata": {},
   "source": [
    "# Select training classes\n",
    "\n",
    "early blight in plantVillage dataset replaced by self one"
   ]
  },
  {
   "cell_type": "code",
   "execution_count": 3,
   "metadata": {},
   "outputs": [],
   "source": [
    "class_paths_training = ['../datasets/plantvillage/___Late_blight', '../datasets/plantvillage/___Early_blight', '../datasets/plantvillage/___Septoria_leaf_spot', '../datasets/plantvillage/___Bacterial_spot']\n",
    "class_names = None"
   ]
  },
  {
   "cell_type": "markdown",
   "metadata": {},
   "source": [
    "# Load dataset"
   ]
  },
  {
   "cell_type": "code",
   "execution_count": 4,
   "metadata": {},
   "outputs": [
    {
     "name": "stderr",
     "output_type": "stream",
     "text": [
      "Using TensorFlow backend.\n"
     ]
    },
    {
     "name": "stdout",
     "output_type": "stream",
     "text": [
      "[INFO] loading images...\n",
      "[INFO]: Processed 500/6807\n",
      "[INFO]: Processed 1000/6807\n",
      "[INFO]: Processed 1500/6807\n",
      "[INFO]: Processed 2000/6807\n",
      "[INFO]: Processed 2500/6807\n",
      "[INFO]: Processed 3000/6807\n",
      "[INFO]: Processed 3500/6807\n",
      "[INFO]: Processed 4000/6807\n",
      "[INFO]: Processed 4500/6807\n",
      "[INFO]: Processed 5000/6807\n",
      "[INFO]: Processed 5500/6807\n",
      "[INFO]: Processed 6000/6807\n",
      "[INFO]: Processed 6500/6807\n"
     ]
    }
   ],
   "source": [
    "from sklearn.preprocessing import LabelBinarizer\n",
    "from sklearn.model_selection import train_test_split\n",
    "from sklearn.metrics import classification_report\n",
    "from keras.preprocessing.image   import ImageDataGenerator\n",
    "from keras.optimizers import RMSprop\n",
    "from keras.layers import Input\n",
    "from keras.models import Model\n",
    "from keras .applications import VGG16\n",
    "from keras.optimizers import SGD\n",
    "from keras.models import Model\n",
    "from imutils import paths\n",
    "import numpy as np\n",
    "import os\n",
    "\n",
    "import sys\n",
    "sys.path.append('..')\n",
    "\n",
    "from utils.preprocessors.resize_image_preprocessor import resizeImagePreprocessor\n",
    "from utils.preprocessors.img_to_array_preprocessor import ImgToArrayPreprocessor\n",
    "from utils.io.dataset_loader import DatasetLoader\n",
    "\n",
    "# construct the image generator for data augmentation\n",
    "aug = ImageDataGenerator(   rotation_range=30,\n",
    "                            width_shift_range=0.1,\n",
    "                            height_shift_range=0.1,\n",
    "                            shear_range=0.2,\n",
    "                            zoom_range=0.2,\n",
    "                            horizontal_flip=True,\n",
    "                            fill_mode='nearest')\n",
    "\n",
    "def load_datasets(path_list):\n",
    "    # Load image paths\n",
    "    image_paths = []\n",
    "    print(\"[INFO] loading images...\")\n",
    "    for path in path_list:\n",
    "        image_paths.extend(list(paths.list_images(path)))\n",
    "        \n",
    "    # Get unique classnames\n",
    "\n",
    "    class_names = [pt.split(os.path.sep)[-2] for pt in image_paths]\n",
    "    class_names = [str(x) for x in np.unique(class_names)]\n",
    "\n",
    "    # Initial image preprocessing\n",
    "    aap = resizeImagePreprocessor(input_width, input_height)\n",
    "    iap= ImgToArrayPreprocessor()\n",
    "\n",
    "    #Load image data and perform image data preprocessing\n",
    "    dl = DatasetLoader(preprocessors=[aap,iap])\n",
    "    (data,labels)  = dl.load(image_paths,verbose=500)\n",
    "    data = data.astype(\"float\") / 255.0\n",
    "\n",
    "\n",
    "    # train test split\n",
    "    (train_x,test_x,train_y,test_y) = train_test_split(data,labels,test_size=0.25,random_state=42)\n",
    "\n",
    "    # convert the labels from integers to vectors\n",
    "    train_y = LabelBinarizer().fit_transform(train_y)\n",
    "    test_y = LabelBinarizer().fit_transform(test_y)\n",
    "    \n",
    "    return (train_x,test_x,train_y,test_y, class_names)\n",
    "\n",
    "(train_x,test_x,train_y,test_y, class_names) = load_datasets(class_paths_training)\n",
    "\n"
   ]
  },
  {
   "cell_type": "code",
   "execution_count": 5,
   "metadata": {},
   "outputs": [
    {
     "name": "stdout",
     "output_type": "stream",
     "text": [
      "Dataset loaded\n",
      "['___Bacterial_spot', '___Early_blight', '___Late_blight', '___Septoria_leaf_spot']\n"
     ]
    }
   ],
   "source": [
    "print('Dataset loaded')\n",
    "print(class_names)"
   ]
  },
  {
   "cell_type": "markdown",
   "metadata": {},
   "source": [
    "\n",
    "# Load model"
   ]
  },
  {
   "cell_type": "code",
   "execution_count": 6,
   "metadata": {},
   "outputs": [],
   "source": [
    "from keras.applications import VGG16\n",
    "from keras.utils.vis_utils import plot_model\n",
    "from keras.layers import Input\n",
    "\n",
    "base_model = VGG16(weights='imagenet',include_top=False,\n",
    "                  input_tensor=Input(shape = (input_width,input_height, input_depth)))\n",
    "\n",
    "# plot_save_path = 'diagram-base-resnet50.png'\n",
    "# plot_model(base_model, to_file=plot_save_path, show_shapes=True)"
   ]
  },
  {
   "cell_type": "markdown",
   "metadata": {},
   "source": [
    "# Create custom head"
   ]
  },
  {
   "cell_type": "code",
   "execution_count": 7,
   "metadata": {},
   "outputs": [],
   "source": [
    "from keras.layers.core import Dropout\n",
    "from keras.layers.core import Flatten\n",
    "from keras.layers.core import Dense\n",
    "\n",
    "head_model = base_model.output\n",
    "head_model = Flatten(name='flatten')(head_model)\n",
    "head_model = Dense(256,activation='relu')(head_model)\n",
    "head_model = Dropout(0.5)(head_model)\n",
    "# Add a softmaxc layer\n",
    "head_model = Dense(len(class_names),activation='softmax')(head_model)"
   ]
  },
  {
   "cell_type": "code",
   "execution_count": 8,
   "metadata": {},
   "outputs": [],
   "source": [
    "from keras.models import Model\n",
    "\n",
    "\n",
    "# place the head FC model on top of the base model \n",
    "model = Model(inputs=base_model.input, outputs = head_model)\n",
    "\n",
    "# plot_save_path = 'diagram-vgg16-head-attached.png'\n",
    "# plot_model(model, to_file=model_diagram_path, show_shapes=True)"
   ]
  },
  {
   "cell_type": "markdown",
   "metadata": {},
   "source": [
    "# Add dropout layers"
   ]
  },
  {
   "cell_type": "code",
   "execution_count": 9,
   "metadata": {},
   "outputs": [
    {
     "name": "stdout",
     "output_type": "stream",
     "text": [
      "input_1\n",
      "23\n",
      "[INFO]     0\tinput_1                       InputLayer\n",
      "[INFO]     1\tblock1_conv1                  Conv2D\n",
      "[INFO]     2\tblock1_conv2                  Conv2D\n",
      "[INFO]     3\tblock1_pool                   MaxPooling2D\n",
      "[INFO]     4\tblock2_conv1                  Conv2D\n",
      "[INFO]     5\tblock2_conv2                  Conv2D\n",
      "[INFO]     6\tblock2_pool                   MaxPooling2D\n",
      "[INFO]     7\tblock3_conv1                  Conv2D\n",
      "[INFO]     8\tblock3_conv2                  Conv2D\n",
      "[INFO]     9\tblock3_conv3                  Conv2D\n",
      "[INFO]    10\tblock3_pool                   MaxPooling2D\n",
      "[INFO]    11\tblock4_conv1                  Conv2D\n",
      "[INFO]    12\tblock4_conv2                  Conv2D\n",
      "[INFO]    13\tblock4_conv3                  Conv2D\n",
      "[INFO]    14\tblock4_pool                   MaxPooling2D\n",
      "[INFO]    15\tblock5_conv1                  Conv2D\n",
      "[INFO]    16\tblock5_conv2                  Conv2D\n",
      "[INFO]    17\tdropout_2                     Dropout\n",
      "[INFO]    18\tblock5_conv3                  Conv2D\n",
      "[INFO]    19\tdropout_3                     Dropout\n",
      "[INFO]    20\tblock5_pool                   MaxPooling2D\n",
      "[INFO]    21\tflatten                       Flatten\n",
      "[INFO]    22\tdense_1                       Dense\n",
      "[INFO]    23\tdropout_1                     Dropout\n",
      "[INFO]    24\tdense_2                       Dense\n"
     ]
    },
    {
     "name": "stderr",
     "output_type": "stream",
     "text": [
      "/usr/local/lib/python3.5/dist-packages/ipykernel_launcher.py:25: UserWarning: Update your `Model` call to the Keras 2 API: `Model(inputs=Tensor(\"in..., outputs=Tensor(\"de...)`\n"
     ]
    }
   ],
   "source": [
    "from keras.layers import Dropout\n",
    "from keras.models import Model\n",
    "\n",
    "layers = [l for l in model.layers]\n",
    "\n",
    "\n",
    "print(layers[0].name)\n",
    "print(len(layers))\n",
    "\n",
    "x = layers[0].output\n",
    "\n",
    "# Add until layer layer 15\n",
    "for i in range(1, 17):\n",
    "    x = layers[i](x)\n",
    "\n",
    "# Add the two dropout layers\n",
    "x = Dropout(0.5)(x)\n",
    "x = layers[17](x)\n",
    "x = Dropout(0.5)(x)\n",
    "\n",
    "# Add the rest of the layers\n",
    "for i in range(18, len(layers)):\n",
    "    x = layers[i](x)\n",
    "\n",
    "model = Model(input=layers[0].input, output=x)\n",
    "\n",
    "# iterate for all layers in the network and print its' index value\n",
    "for (i,layer) in enumerate(model.layers):\n",
    "    print(\"[INFO] {:5}\\t{:30}{}\".format(i, layer.name, layer.__class__.__name__))"
   ]
  },
  {
   "cell_type": "markdown",
   "metadata": {},
   "source": [
    "# Freeze base model"
   ]
  },
  {
   "cell_type": "code",
   "execution_count": 10,
   "metadata": {},
   "outputs": [],
   "source": [
    "# traverse all layers and freeze the weight of the corresponding layer\n",
    "for layer in base_model.layers:\n",
    "    layer.trainable = False"
   ]
  },
  {
   "cell_type": "code",
   "execution_count": 11,
   "metadata": {},
   "outputs": [],
   "source": [
    "from keras.utils.vis_utils import plot_model\n",
    "\n",
    "# plot_save_path = 'diagram-vgg16-head-attached.png'\n",
    "# plot_model(model, to_file=plot_save_path, show_shapes=True)"
   ]
  },
  {
   "cell_type": "markdown",
   "metadata": {},
   "source": [
    "# Compile model"
   ]
  },
  {
   "cell_type": "code",
   "execution_count": 12,
   "metadata": {},
   "outputs": [],
   "source": [
    "model.compile(optimizer='rmsprop', loss='categorical_crossentropy', metrics=['accuracy'])\n",
    "# Since we only train the new fully connected layer, we do a few iterations"
   ]
  },
  {
   "cell_type": "code",
   "execution_count": 13,
   "metadata": {},
   "outputs": [
    {
     "name": "stdout",
     "output_type": "stream",
     "text": [
      "['loss', 'accuracy']\n"
     ]
    }
   ],
   "source": [
    "print(model.metrics_names)"
   ]
  },
  {
   "cell_type": "markdown",
   "metadata": {},
   "source": [
    "# Checkpoints"
   ]
  },
  {
   "cell_type": "code",
   "execution_count": 14,
   "metadata": {},
   "outputs": [],
   "source": [
    "from keras.callbacks import ModelCheckpoint\n",
    "\n",
    "\n",
    "checkpoint = ModelCheckpoint(checkpoint_path, monitor='val_loss', mode='min', \n",
    "save_best_only=True, verbose=1)\n",
    "\n",
    "callbacks = [checkpoint]\n",
    "\n"
   ]
  },
  {
   "cell_type": "code",
   "execution_count": 15,
   "metadata": {},
   "outputs": [],
   "source": [
    "#load checkpoints if existing\n",
    "\n",
    "import os\n",
    "\n",
    "if(os.path.exists(checkpoint_path)):\n",
    "    model.load_weights(checkpoint_path)"
   ]
  },
  {
   "cell_type": "markdown",
   "metadata": {},
   "source": [
    "# Training monitor"
   ]
  },
  {
   "cell_type": "code",
   "execution_count": 16,
   "metadata": {},
   "outputs": [],
   "source": [
    "from utils.callbacks.monitor import Monitor\n",
    "import pathlib\n",
    "import json\n",
    "import os\n",
    "\n",
    "fig_path = \"plot\"\n",
    "json_path = \"values.json\"\n",
    "values_path = 'values.json'\n",
    "\n",
    "callbacks.append(Monitor(fig_path, json_path, start_epoch))"
   ]
  },
  {
   "cell_type": "markdown",
   "metadata": {},
   "source": [
    "# Warm up head"
   ]
  },
  {
   "cell_type": "code",
   "execution_count": 17,
   "metadata": {},
   "outputs": [
    {
     "name": "stdout",
     "output_type": "stream",
     "text": [
      "Epoch 1/20\n",
      "159/159 [==============================] - 468s 3s/step - loss: 0.7248 - accuracy: 0.6992 - val_loss: 0.5061 - val_accuracy: 0.8555\n",
      "\n",
      "Epoch 00001: val_loss improved from inf to 0.50615, saving model to checkpoints-warmup.hdf5\n",
      "Epoch 2/20\n",
      "159/159 [==============================] - 467s 3s/step - loss: 0.7001 - accuracy: 0.7057 - val_loss: 0.5840 - val_accuracy: 0.7667\n",
      "\n",
      "Epoch 00002: val_loss did not improve from 0.50615\n",
      "Epoch 3/20\n",
      "159/159 [==============================] - 467s 3s/step - loss: 0.7046 - accuracy: 0.7073 - val_loss: 0.4812 - val_accuracy: 0.8173\n",
      "\n",
      "Epoch 00003: val_loss improved from 0.50615 to 0.48123, saving model to checkpoints-warmup.hdf5\n",
      "Epoch 4/20\n",
      "159/159 [==============================] - 468s 3s/step - loss: 0.7057 - accuracy: 0.7118 - val_loss: 0.6092 - val_accuracy: 0.7832\n",
      "\n",
      "Epoch 00004: val_loss did not improve from 0.48123\n",
      "Epoch 5/20\n",
      "159/159 [==============================] - 469s 3s/step - loss: 0.6664 - accuracy: 0.7278 - val_loss: 0.5510 - val_accuracy: 0.8290\n",
      "\n",
      "Epoch 00005: val_loss did not improve from 0.48123\n",
      "Epoch 6/20\n",
      "159/159 [==============================] - 469s 3s/step - loss: 0.6925 - accuracy: 0.7209 - val_loss: 0.5193 - val_accuracy: 0.8143\n",
      "\n",
      "Epoch 00006: val_loss did not improve from 0.48123\n",
      "Epoch 7/20\n",
      "159/159 [==============================] - 469s 3s/step - loss: 0.6933 - accuracy: 0.7211 - val_loss: 0.6266 - val_accuracy: 0.7773\n",
      "\n",
      "Epoch 00007: val_loss did not improve from 0.48123\n",
      "Epoch 8/20\n",
      "159/159 [==============================] - 469s 3s/step - loss: 0.6602 - accuracy: 0.7226 - val_loss: 0.5674 - val_accuracy: 0.7891\n",
      "\n",
      "Epoch 00008: val_loss did not improve from 0.48123\n",
      "Epoch 9/20\n",
      "159/159 [==============================] - 470s 3s/step - loss: 0.6805 - accuracy: 0.7213 - val_loss: 0.5606 - val_accuracy: 0.8202\n",
      "\n",
      "Epoch 00009: val_loss did not improve from 0.48123\n",
      "Epoch 10/20\n",
      "159/159 [==============================] - 471s 3s/step - loss: 0.6901 - accuracy: 0.7183 - val_loss: 0.5927 - val_accuracy: 0.7632\n",
      "\n",
      "Epoch 00010: val_loss did not improve from 0.48123\n",
      "Epoch 11/20\n",
      "159/159 [==============================] - 471s 3s/step - loss: 0.6816 - accuracy: 0.7211 - val_loss: 0.6818 - val_accuracy: 0.7791\n",
      "\n",
      "Epoch 00011: val_loss did not improve from 0.48123\n",
      "Epoch 12/20\n",
      "159/159 [==============================] - 471s 3s/step - loss: 0.6605 - accuracy: 0.7297 - val_loss: 0.6626 - val_accuracy: 0.7562\n",
      "\n",
      "Epoch 00012: val_loss did not improve from 0.48123\n",
      "Epoch 13/20\n",
      "159/159 [==============================] - 471s 3s/step - loss: 0.6765 - accuracy: 0.7228 - val_loss: 0.5909 - val_accuracy: 0.7662\n",
      "\n",
      "Epoch 00013: val_loss did not improve from 0.48123\n",
      "Epoch 14/20\n",
      "159/159 [==============================] - 471s 3s/step - loss: 0.6741 - accuracy: 0.7232 - val_loss: 0.6512 - val_accuracy: 0.7832\n",
      "\n",
      "Epoch 00014: val_loss did not improve from 0.48123\n",
      "Epoch 15/20\n",
      "159/159 [==============================] - 469s 3s/step - loss: 0.6584 - accuracy: 0.7264 - val_loss: 0.5269 - val_accuracy: 0.7644\n",
      "\n",
      "Epoch 00015: val_loss did not improve from 0.48123\n",
      "Epoch 16/20\n",
      "159/159 [==============================] - 470s 3s/step - loss: 0.6508 - accuracy: 0.7441 - val_loss: 0.6155 - val_accuracy: 0.7879\n",
      "\n",
      "Epoch 00016: val_loss did not improve from 0.48123\n",
      "Epoch 17/20\n",
      "159/159 [==============================] - 472s 3s/step - loss: 0.6575 - accuracy: 0.7331 - val_loss: 0.6040 - val_accuracy: 0.7861\n",
      "\n",
      "Epoch 00017: val_loss did not improve from 0.48123\n",
      "Epoch 18/20\n",
      "159/159 [==============================] - 472s 3s/step - loss: 0.6703 - accuracy: 0.7323 - val_loss: 0.6276 - val_accuracy: 0.8108\n",
      "\n",
      "Epoch 00018: val_loss did not improve from 0.48123\n",
      "Epoch 19/20\n",
      "159/159 [==============================] - 470s 3s/step - loss: 0.6402 - accuracy: 0.7361 - val_loss: 0.5675 - val_accuracy: 0.7902\n",
      "\n",
      "Epoch 00019: val_loss did not improve from 0.48123\n",
      "Epoch 20/20\n",
      "159/159 [==============================] - 470s 3s/step - loss: 0.6537 - accuracy: 0.7311 - val_loss: 0.5350 - val_accuracy: 0.8161\n",
      "\n",
      "Epoch 00020: val_loss did not improve from 0.48123\n"
     ]
    }
   ],
   "source": [
    "model.fit_generator(\n",
    "    aug.flow(train_x,train_y, batch_size = batch_size),\n",
    "             validation_data = (test_x,test_y),\n",
    "             epochs=num_of_epochs,\n",
    "             steps_per_epoch = len(train_x) //32,\n",
    "             verbose = 1,\n",
    "             callbacks=callbacks)\n",
    "\n",
    "model.save(model_save_path)"
   ]
  },
  {
   "cell_type": "markdown",
   "metadata": {},
   "source": [
    "# Evaluate with 20% test set from same dataset"
   ]
  },
  {
   "cell_type": "code",
   "execution_count": 18,
   "metadata": {},
   "outputs": [
    {
     "name": "stdout",
     "output_type": "stream",
     "text": [
      "[INFO] evaluating with test set...\n",
      "                       precision    recall  f1-score   support\n",
      "\n",
      "    ___Bacterial_spot       0.71      0.99      0.83       533\n",
      "      ___Early_blight       0.60      0.45      0.52       232\n",
      "       ___Late_blight       0.96      0.77      0.85       497\n",
      "___Septoria_leaf_spot       0.96      0.85      0.90       440\n",
      "\n",
      "             accuracy                           0.82      1702\n",
      "            macro avg       0.81      0.77      0.78      1702\n",
      "         weighted avg       0.83      0.82      0.81      1702\n",
      "\n"
     ]
    }
   ],
   "source": [
    "from sklearn.metrics import classification_report\n",
    "\n",
    "print(\"[INFO] evaluating with test set...\")\n",
    "predictions = model.predict(test_x,batch_size=batch_size)\n",
    "print(classification_report(test_y.argmax(axis =1),\n",
    "                            predictions.argmax(axis =1),target_names=class_names))"
   ]
  },
  {
   "cell_type": "markdown",
   "metadata": {},
   "source": [
    "# Evaluate with validation images"
   ]
  },
  {
   "cell_type": "code",
   "execution_count": 19,
   "metadata": {},
   "outputs": [],
   "source": [
    "class_paths_validation = ['../datasets/validation/___Early_blight', '../datasets/validation/___Appids', '../datasets/validation/___Leaf_miner', '../datasets/self/___Curly_top_virus']"
   ]
  },
  {
   "cell_type": "code",
   "execution_count": 20,
   "metadata": {},
   "outputs": [
    {
     "name": "stdout",
     "output_type": "stream",
     "text": [
      "[INFO] loading images...\n",
      "[INFO]: Processed 500/599\n",
      "[INFO] evaluating with validation set...\n",
      "                    precision    recall  f1-score   support\n",
      "\n",
      "         ___Appids     0.0000    0.0000    0.0000         5\n",
      "___Curly_top_virus     0.8571    0.1071    0.1905       112\n",
      "   ___Early_blight     0.0698    0.7500    0.1277        12\n",
      "     ___Leaf_miner     0.0000    0.0000    0.0000        21\n",
      "\n",
      "          accuracy                         0.1400       150\n",
      "         macro avg     0.2317    0.2143    0.0795       150\n",
      "      weighted avg     0.6456    0.1400    0.1524       150\n",
      "\n"
     ]
    }
   ],
   "source": [
    "(train_x,test_x,train_y,test_y, class_names) = load_datasets(class_paths_validation)\n",
    "\n",
    "from sklearn.metrics import classification_report\n",
    "\n",
    "print(\"[INFO] evaluating with validation set...\")\n",
    "predictions = model.predict(test_x,batch_size=batch_size)\n",
    "\n",
    "print(classification_report(test_y.argmax(axis =1),\n",
    "                            predictions.argmax(axis =1),\n",
    "                            target_names=class_names, \n",
    "                            digits=4))"
   ]
  }
 ],
 "metadata": {
  "file_extension": ".py",
  "kernelspec": {
   "display_name": "Python 3",
   "language": "python",
   "name": "python3"
  },
  "language_info": {
   "codemirror_mode": {
    "name": "ipython",
    "version": 3
   },
   "file_extension": ".py",
   "mimetype": "text/x-python",
   "name": "python",
   "nbconvert_exporter": "python",
   "pygments_lexer": "ipython3",
   "version": "3.5.3"
  },
  "mimetype": "text/x-python",
  "name": "python",
  "npconvert_exporter": "python",
  "pygments_lexer": "ipython3",
  "version": 3
 },
 "nbformat": 4,
 "nbformat_minor": 4
}
